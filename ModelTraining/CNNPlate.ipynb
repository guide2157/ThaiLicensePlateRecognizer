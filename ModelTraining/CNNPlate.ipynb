{
  "nbformat": 4,
  "nbformat_minor": 0,
  "metadata": {
    "colab": {
      "name": "CNNPlate.ipynb",
      "provenance": [],
      "mount_file_id": "1OmOLwzBFmmyrL2Oxffgm8rODB1lCw1lw",
      "authorship_tag": "ABX9TyN9HWscVSMEOGwv518xWsjc",
      "include_colab_link": true
    },
    "kernelspec": {
      "name": "python3",
      "display_name": "Python 3"
    },
    "accelerator": "GPU"
  },
  "cells": [
    {
      "cell_type": "markdown",
      "metadata": {
        "id": "view-in-github",
        "colab_type": "text"
      },
      "source": [
        "<a href=\"https://colab.research.google.com/github/guide2157/ThaiLicensePlateRecognizer/blob/master/CNNPlate.ipynb\" target=\"_parent\"><img src=\"https://colab.research.google.com/assets/colab-badge.svg\" alt=\"Open In Colab\"/></a>"
      ]
    },
    {
      "cell_type": "code",
      "metadata": {
        "id": "SDWBRTQuiOT2",
        "colab_type": "code",
        "colab": {}
      },
      "source": [
        "import numpy as np\n",
        "import cv2\n",
        "import os\n",
        "import pandas as pd\n",
        "import tqdm"
      ],
      "execution_count": 0,
      "outputs": []
    },
    {
      "cell_type": "code",
      "metadata": {
        "id": "T06ke1ljif8V",
        "colab_type": "code",
        "colab": {}
      },
      "source": [
        "meta = pd.read_csv(\"LicenseChar.csv\")"
      ],
      "execution_count": 0,
      "outputs": []
    },
    {
      "cell_type": "code",
      "metadata": {
        "id": "_BqDj1AmisnM",
        "colab_type": "code",
        "colab": {
          "base_uri": "https://localhost:8080/",
          "height": 204
        },
        "outputId": "62ac632e-83fd-413f-f0bc-99750afbb24e"
      },
      "source": [
        "meta.head()"
      ],
      "execution_count": 5,
      "outputs": [
        {
          "output_type": "execute_result",
          "data": {
            "text/html": [
              "<div>\n",
              "<style scoped>\n",
              "    .dataframe tbody tr th:only-of-type {\n",
              "        vertical-align: middle;\n",
              "    }\n",
              "\n",
              "    .dataframe tbody tr th {\n",
              "        vertical-align: top;\n",
              "    }\n",
              "\n",
              "    .dataframe thead th {\n",
              "        text-align: right;\n",
              "    }\n",
              "</style>\n",
              "<table border=\"1\" class=\"dataframe\">\n",
              "  <thead>\n",
              "    <tr style=\"text-align: right;\">\n",
              "      <th></th>\n",
              "      <th>id</th>\n",
              "      <th>char</th>\n",
              "    </tr>\n",
              "  </thead>\n",
              "  <tbody>\n",
              "    <tr>\n",
              "      <th>0</th>\n",
              "      <td>0</td>\n",
              "      <td>ฎ</td>\n",
              "    </tr>\n",
              "    <tr>\n",
              "      <th>1</th>\n",
              "      <td>1</td>\n",
              "      <td>ต</td>\n",
              "    </tr>\n",
              "    <tr>\n",
              "      <th>2</th>\n",
              "      <td>2</td>\n",
              "      <td>8</td>\n",
              "    </tr>\n",
              "    <tr>\n",
              "      <th>3</th>\n",
              "      <td>3</td>\n",
              "      <td>ข</td>\n",
              "    </tr>\n",
              "    <tr>\n",
              "      <th>4</th>\n",
              "      <td>4</td>\n",
              "      <td>ต</td>\n",
              "    </tr>\n",
              "  </tbody>\n",
              "</table>\n",
              "</div>"
            ],
            "text/plain": [
              "   id char\n",
              "0   0    ฎ\n",
              "1   1    ต\n",
              "2   2    8\n",
              "3   3    ข\n",
              "4   4    ต"
            ]
          },
          "metadata": {
            "tags": []
          },
          "execution_count": 5
        }
      ]
    },
    {
      "cell_type": "code",
      "metadata": {
        "id": "ovQ3fGdbitus",
        "colab_type": "code",
        "colab": {}
      },
      "source": [
        "import os\n",
        "\n",
        "_, _, files = next(os.walk('/content/drive/My Drive/CharsImg'))\n",
        "file_count = len(files)"
      ],
      "execution_count": 0,
      "outputs": []
    },
    {
      "cell_type": "code",
      "metadata": {
        "id": "rMgzPncfjJgy",
        "colab_type": "code",
        "colab": {}
      },
      "source": [
        "images = np.zeros((file_count, 45, 50, 3))"
      ],
      "execution_count": 0,
      "outputs": []
    },
    {
      "cell_type": "code",
      "metadata": {
        "id": "qaACj8injt-X",
        "colab_type": "code",
        "colab": {
          "base_uri": "https://localhost:8080/",
          "height": 34
        },
        "outputId": "a44b8dd2-b02d-4907-825a-54acc33a2350"
      },
      "source": [
        "counter = 0\n",
        "for idx in tqdm.tqdm(meta['id']):\n",
        "  path = '/content/drive/My Drive/CharsImg/{}.jpg'.format(idx)\n",
        "  img = cv2.imread(path)\n",
        "  img = cv2.resize(img,(50,45))\n",
        "  img = img/255.\n",
        "  images[counter] = img\n",
        "  counter+=1"
      ],
      "execution_count": 8,
      "outputs": [
        {
          "output_type": "stream",
          "text": [
            "100%|██████████| 1039/1039 [13:01<00:00,  1.33it/s]\n"
          ],
          "name": "stderr"
        }
      ]
    },
    {
      "cell_type": "code",
      "metadata": {
        "id": "eoUzIzhfmBI0",
        "colab_type": "code",
        "colab": {}
      },
      "source": [
        "from sklearn.preprocessing import LabelEncoder\n",
        "\n",
        "le = LabelEncoder()\n",
        "labels = le.fit_transform(meta['char'])"
      ],
      "execution_count": 0,
      "outputs": []
    },
    {
      "cell_type": "code",
      "metadata": {
        "id": "4mtt893CoPmt",
        "colab_type": "code",
        "colab": {
          "base_uri": "https://localhost:8080/",
          "height": 85
        },
        "outputId": "bc8e09dd-c81e-42e3-d8e8-da1591fcf986"
      },
      "source": [
        "le.classes_"
      ],
      "execution_count": 10,
      "outputs": [
        {
          "output_type": "execute_result",
          "data": {
            "text/plain": [
              "array([' ข', ' ศ', '0', '1', '2', '3', '4', '5', '6', '7', '8', '9', 'ก',\n",
              "       'ข', 'ค', 'ฆ', 'ง', 'จ', 'ฉ', 'ช', 'ฌ', 'ญ', 'ฎ', 'ฐ', 'ฒ', 'ณ',\n",
              "       'ด', 'ต', 'ถ', 'ท', 'ธ', 'น', 'บ', 'ป', 'ผ', 'พ', 'ภ', 'ม', 'ย',\n",
              "       'ร', 'ล', 'ว', 'ศ', 'ษ', 'ส', 'ห', 'ฬ', 'อ', 'ฮ'], dtype=object)"
            ]
          },
          "metadata": {
            "tags": []
          },
          "execution_count": 10
        }
      ]
    },
    {
      "cell_type": "code",
      "metadata": {
        "id": "XtwR6VK5mv4s",
        "colab_type": "code",
        "colab": {}
      },
      "source": [
        "from sklearn.preprocessing import OneHotEncoder\n",
        "\n",
        "enc = OneHotEncoder()\n",
        "y = enc.fit_transform(np.reshape(labels, (-1,1)))"
      ],
      "execution_count": 0,
      "outputs": []
    },
    {
      "cell_type": "code",
      "metadata": {
        "id": "h3z7qJMHqc76",
        "colab_type": "code",
        "colab": {
          "base_uri": "https://localhost:8080/",
          "height": 34
        },
        "outputId": "83d31a06-8eb8-4c55-98e8-b42d20239dcc"
      },
      "source": [
        "y.shape"
      ],
      "execution_count": 46,
      "outputs": [
        {
          "output_type": "execute_result",
          "data": {
            "text/plain": [
              "(1039, 49)"
            ]
          },
          "metadata": {
            "tags": []
          },
          "execution_count": 46
        }
      ]
    },
    {
      "cell_type": "markdown",
      "metadata": {
        "id": "atBge1bFk70o",
        "colab_type": "text"
      },
      "source": [
        "Create model"
      ]
    },
    {
      "cell_type": "code",
      "metadata": {
        "id": "-YOiqan6k_Xd",
        "colab_type": "code",
        "colab": {}
      },
      "source": [
        "from tensorflow.keras.layers import Input, Dense, Conv2D, MaxPooling2D, BatchNormalization, Activation, Flatten, Dropout\n",
        "from tensorflow.keras.models import Model\n",
        "from tensorflow.keras.optimizers import Adam"
      ],
      "execution_count": 0,
      "outputs": []
    },
    {
      "cell_type": "code",
      "metadata": {
        "id": "mSaHDn2ckTav",
        "colab_type": "code",
        "colab": {}
      },
      "source": [
        "inputs = Input(shape=(45,50, 3, ))\n",
        "\n",
        "head = Conv2D(16, (3,3))(inputs)\n",
        "head = BatchNormalization()(head)\n",
        "head = Activation('relu')(head)\n",
        "head = MaxPooling2D((2,2))(head)\n",
        "head = Dropout(0.4)(head)\n",
        "head = Conv2D(32, (3,3))(head)\n",
        "head = BatchNormalization()(head)\n",
        "head = Activation('relu')(head)\n",
        "head = MaxPooling2D((2,2))(head)\n",
        "head = Dropout(0.4)(head)\n",
        "head = Flatten()(head)\n",
        "head = Dense(128,'relu')(head)\n",
        "outputs = Dense(len(le.classes_), 'softmax')(head)\n",
        "\n",
        "model = Model(inputs, outputs)"
      ],
      "execution_count": 0,
      "outputs": []
    },
    {
      "cell_type": "code",
      "metadata": {
        "id": "5A11lBkRnBLK",
        "colab_type": "code",
        "colab": {}
      },
      "source": [
        "optimizer = Adam()\n",
        "\n",
        "model.compile(optimizer=optimizer, loss='categorical_crossentropy',\n",
        "                metrics=['accuracy'])"
      ],
      "execution_count": 0,
      "outputs": []
    },
    {
      "cell_type": "code",
      "metadata": {
        "id": "3XCZq_7XvrYg",
        "colab_type": "code",
        "colab": {}
      },
      "source": [
        "from sklearn.model_selection import train_test_split\n",
        "\n",
        "X_train, X_val, y_train, y_val = train_test_split(images, y.todense(), test_size=0.1, random_state=42)"
      ],
      "execution_count": 0,
      "outputs": []
    },
    {
      "cell_type": "code",
      "metadata": {
        "id": "koJvS5Bhpfzl",
        "colab_type": "code",
        "colab": {}
      },
      "source": [
        "from tensorflow.keras.callbacks import EarlyStopping, ReduceLROnPlateau\n",
        "\n",
        "callbacks = [\n",
        "             EarlyStopping(monitor='val_loss', patience=4),\n",
        "             ReduceLROnPlateau(monitor='val_loss', factor=0.2, patience=2)\n",
        "]"
      ],
      "execution_count": 0,
      "outputs": []
    },
    {
      "cell_type": "code",
      "metadata": {
        "id": "CTJhAQerynG0",
        "colab_type": "code",
        "colab": {}
      },
      "source": [
        "EPOCH=200\n",
        "BS=16"
      ],
      "execution_count": 0,
      "outputs": []
    },
    {
      "cell_type": "code",
      "metadata": {
        "id": "hn8gBVXlq-sG",
        "colab_type": "code",
        "colab": {
          "base_uri": "https://localhost:8080/",
          "height": 493
        },
        "outputId": "dc8cc4d8-212b-4bcc-8650-7b336e6ce141"
      },
      "source": [
        "history = model.fit(\n",
        "    X_train,\n",
        "    y_train,\n",
        "    batch_size=BS,\n",
        "    epochs=EPOCH,\n",
        "    callbacks=callbacks,\n",
        "    validation_data=(X_val, y_val)\n",
        ")"
      ],
      "execution_count": 88,
      "outputs": [
        {
          "output_type": "stream",
          "text": [
            "Epoch 1/200\n",
            "59/59 [==============================] - 1s 10ms/step - loss: 2.4350 - accuracy: 0.4834 - val_loss: 3.2309 - val_accuracy: 0.5769 - lr: 0.0010\n",
            "Epoch 2/200\n",
            "59/59 [==============================] - 0s 7ms/step - loss: 1.1384 - accuracy: 0.7476 - val_loss: 2.8476 - val_accuracy: 0.6442 - lr: 0.0010\n",
            "Epoch 3/200\n",
            "59/59 [==============================] - 0s 7ms/step - loss: 0.8030 - accuracy: 0.8193 - val_loss: 2.3975 - val_accuracy: 0.5865 - lr: 0.0010\n",
            "Epoch 4/200\n",
            "59/59 [==============================] - 0s 7ms/step - loss: 0.5748 - accuracy: 0.8759 - val_loss: 1.7173 - val_accuracy: 0.7308 - lr: 0.0010\n",
            "Epoch 5/200\n",
            "59/59 [==============================] - 0s 7ms/step - loss: 0.4431 - accuracy: 0.9005 - val_loss: 1.3854 - val_accuracy: 0.7596 - lr: 0.0010\n",
            "Epoch 6/200\n",
            "59/59 [==============================] - 0s 8ms/step - loss: 0.3382 - accuracy: 0.9080 - val_loss: 0.9138 - val_accuracy: 0.8365 - lr: 0.0010\n",
            "Epoch 7/200\n",
            "59/59 [==============================] - 0s 7ms/step - loss: 0.2790 - accuracy: 0.9134 - val_loss: 0.8076 - val_accuracy: 0.8269 - lr: 0.0010\n",
            "Epoch 8/200\n",
            "59/59 [==============================] - 0s 7ms/step - loss: 0.2145 - accuracy: 0.9487 - val_loss: 0.6338 - val_accuracy: 0.8462 - lr: 0.0010\n",
            "Epoch 9/200\n",
            "59/59 [==============================] - 0s 7ms/step - loss: 0.2038 - accuracy: 0.9326 - val_loss: 0.6031 - val_accuracy: 0.8558 - lr: 0.0010\n",
            "Epoch 10/200\n",
            "59/59 [==============================] - 0s 8ms/step - loss: 0.1824 - accuracy: 0.9465 - val_loss: 0.5628 - val_accuracy: 0.8654 - lr: 0.0010\n",
            "Epoch 11/200\n",
            "59/59 [==============================] - 0s 7ms/step - loss: 0.1393 - accuracy: 0.9647 - val_loss: 0.6512 - val_accuracy: 0.8846 - lr: 0.0010\n",
            "Epoch 12/200\n",
            "59/59 [==============================] - 0s 7ms/step - loss: 0.0860 - accuracy: 0.9765 - val_loss: 0.6541 - val_accuracy: 0.8654 - lr: 0.0010\n",
            "Epoch 13/200\n",
            "59/59 [==============================] - 0s 7ms/step - loss: 0.0510 - accuracy: 0.9850 - val_loss: 0.6198 - val_accuracy: 0.8558 - lr: 2.0000e-04\n",
            "Epoch 14/200\n",
            "59/59 [==============================] - 0s 7ms/step - loss: 0.0520 - accuracy: 0.9893 - val_loss: 0.5970 - val_accuracy: 0.8654 - lr: 2.0000e-04\n"
          ],
          "name": "stdout"
        }
      ]
    },
    {
      "cell_type": "code",
      "metadata": {
        "id": "8NZ2nRXirncF",
        "colab_type": "code",
        "colab": {}
      },
      "source": [
        "import matplotlib.pyplot as plt"
      ],
      "execution_count": 0,
      "outputs": []
    },
    {
      "cell_type": "code",
      "metadata": {
        "id": "Xch2zuAjtkkk",
        "colab_type": "code",
        "colab": {
          "base_uri": "https://localhost:8080/",
          "height": 295
        },
        "outputId": "ef44138a-1863-426d-8edb-af7b6539cc10"
      },
      "source": [
        "plt.plot(history.history['loss'])\n",
        "plt.plot(history.history['val_loss'])\n",
        "plt.title('Model losses')\n",
        "plt.ylabel('Loss')\n",
        "plt.xlabel('Epoch')\n",
        "plt.legend(['Train', 'Validation'], loc='upper left')\n",
        "plt.show()"
      ],
      "execution_count": 89,
      "outputs": [
        {
          "output_type": "display_data",
          "data": {
            "image/png": "[encoded data removed]",
            "text/plain": [
              "<Figure size 432x288 with 1 Axes>"
            ]
          },
          "metadata": {
            "tags": [],
            "needs_background": "light"
          }
        }
      ]
    },
    {
      "cell_type": "markdown",
      "metadata": {
        "id": "1gCmblaxuI4f",
        "colab_type": "text"
      },
      "source": [
        "Save model"
      ]
    },
    {
      "cell_type": "code",
      "metadata": {
        "id": "mw4im2XLuIqj",
        "colab_type": "code",
        "colab": {}
      },
      "source": [
        "import pickle\n",
        "\n",
        "mapping = dict(zip(le.classes_, range(len(le.classes_))))\n",
        "with open('result_mapping.pickle', 'wb') as handle:\n",
        "    pickle.dump(mapping, handle, protocol=pickle.HIGHEST_PROTOCOL)"
      ],
      "execution_count": 0,
      "outputs": []
    },
    {
      "cell_type": "code",
      "metadata": {
        "id": "2FbrQBdXuiKp",
        "colab_type": "code",
        "colab": {}
      },
      "source": [
        "model.save(\"CNNLicense.h5\")"
      ],
      "execution_count": 0,
      "outputs": []
    },
    {
      "cell_type": "code",
      "metadata": {
        "id": "8AUWtXYDz2oK",
        "colab_type": "code",
        "colab": {}
      },
      "source": [
        ""
      ],
      "execution_count": 0,
      "outputs": []
    }
  ]
}